{
 "cells": [
  {
   "cell_type": "code",
   "execution_count": 12,
   "metadata": {},
   "outputs": [
    {
     "name": "stdout",
     "output_type": "stream",
     "text": [
      "557\n"
     ]
    }
   ],
   "source": [
    "import os\n",
    "import json\n",
    "import csv\n",
    "import random\n",
    "from paper_comparison.types import Table\n",
    "\n",
    "\n",
    "gold_table_file = open(\"../../metric_validation_0_tables.jsonl\")\n",
    "gold_tables = []\n",
    "for line in gold_table_file:\n",
    "    data = json.loads(line)\n",
    "    table = Table(data[\"tabid\"], list(data[\"table\"].keys()), data[\"table\"])\n",
    "    # Check that there aren't any tables for which we couldn't produce predictions\n",
    "    if not os.path.exists(f\"../../EMNLP2024FinalOutputs/gold_schema_values/{table.tabid}_with_better_values.json\"):\n",
    "        continue\n",
    "    gold_tables.append(table)\n",
    "print(len(gold_tables))"
   ]
  },
  {
   "cell_type": "code",
   "execution_count": 23,
   "metadata": {},
   "outputs": [
    {
     "name": "stdout",
     "output_type": "stream",
     "text": [
      "24 out of 1489 cells did not have predicted values\n",
      "132 out of 1489 cells have N/A predictions\n"
     ]
    }
   ],
   "source": [
    "random.seed(42)\n",
    "gold_tables_to_eval = random.sample(gold_tables, 100)\n",
    "annotation_folder = \"ValueEvaluation\"\n",
    "if not os.path.exists(annotation_folder):\n",
    "    os.mkdir(annotation_folder)\n",
    "\n",
    "missing_predictions = 0\n",
    "na_predictions = 0\n",
    "total_predictions = 0\n",
    "for table in gold_tables_to_eval:\n",
    "    pred_file = f\"../../EMNLP2024FinalOutputs/gold_schema_values/{table.tabid}_with_better_values.json\"\n",
    "    pred_data = json.load(open(pred_file))\n",
    "    pred_table = Table(pred_data[\"tabid\"], list(pred_data[\"table\"].keys()), pred_data[\"table\"])\n",
    "    annotation_file = open(os.path.join(annotation_folder, f\"{table.tabid}_value_eval.csv\"), \"w\")\n",
    "    writer = csv.writer(annotation_file)\n",
    "    writer.writerow([\"Table ID\", \"Column\", \"Corpus ID\", \"Gold Value\", \"Predicted Value\"])\n",
    "    for column in table.schema:\n",
    "        for paper in table.values[column]:\n",
    "            total_predictions += 1\n",
    "            if str(paper) not in pred_table.values[column]:\n",
    "                missing_predictions += 1\n",
    "                continue\n",
    "            if pred_table.values[column][str(paper)] == \"N/A\":\n",
    "                na_predictions += 1\n",
    "            new_row = [table.tabid, column, paper, ' | '.join(table.values[column][paper]), pred_table.values[column][str(paper)]]\n",
    "            writer.writerow(new_row)\n",
    "    annotation_file.close()\n",
    "print(f\"{missing_predictions} out of {total_predictions} cells did not have predicted values\")\n",
    "print(f\"{na_predictions} out of {total_predictions} cells have N/A predictions\")"
   ]
  }
 ],
 "metadata": {
  "kernelspec": {
   "display_name": "Python 3",
   "language": "python",
   "name": "python3"
  },
  "language_info": {
   "codemirror_mode": {
    "name": "ipython",
    "version": 3
   },
   "file_extension": ".py",
   "mimetype": "text/x-python",
   "name": "python",
   "nbconvert_exporter": "python",
   "pygments_lexer": "ipython3",
   "version": "3.9.6"
  }
 },
 "nbformat": 4,
 "nbformat_minor": 2
}
